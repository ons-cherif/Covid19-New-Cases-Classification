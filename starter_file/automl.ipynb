{
  "cells": [
    {
      "cell_type": "markdown",
      "source": [
        "# Automated ML\n",
        "\n",
        "TODO: Import Dependencies. In the cell below, import all the dependencies that you will need to complete the project."
      ],
      "metadata": {}
    },
    {
      "cell_type": "code",
      "source": [
        "!pip install kaggle\r\n",
        "!pip install kaggle-cli"
      ],
      "outputs": [
        {
          "output_type": "stream",
          "name": "stdout",
          "text": [
            "Requirement already satisfied: kaggle in /anaconda/envs/azureml_py36/lib/python3.6/site-packages (1.5.10)\n",
            "Requirement already satisfied: urllib3 in /anaconda/envs/azureml_py36/lib/python3.6/site-packages (from kaggle) (1.25.11)\n",
            "Requirement already satisfied: tqdm in /anaconda/envs/azureml_py36/lib/python3.6/site-packages (from kaggle) (4.56.0)\n",
            "Requirement already satisfied: python-slugify in /anaconda/envs/azureml_py36/lib/python3.6/site-packages (from kaggle) (4.0.1)\n",
            "Requirement already satisfied: certifi in /anaconda/envs/azureml_py36/lib/python3.6/site-packages (from kaggle) (2020.12.5)\n",
            "Requirement already satisfied: requests in /anaconda/envs/azureml_py36/lib/python3.6/site-packages (from kaggle) (2.25.1)\n",
            "Requirement already satisfied: python-dateutil in /anaconda/envs/azureml_py36/lib/python3.6/site-packages (from kaggle) (2.8.1)\n",
            "Requirement already satisfied: six>=1.10 in /anaconda/envs/azureml_py36/lib/python3.6/site-packages (from kaggle) (1.15.0)\n",
            "Requirement already satisfied: text-unidecode>=1.3 in /anaconda/envs/azureml_py36/lib/python3.6/site-packages (from python-slugify->kaggle) (1.3)\n",
            "Requirement already satisfied: chardet<5,>=3.0.2 in /anaconda/envs/azureml_py36/lib/python3.6/site-packages (from requests->kaggle) (4.0.0)\n",
            "Requirement already satisfied: idna<3,>=2.5 in /anaconda/envs/azureml_py36/lib/python3.6/site-packages (from requests->kaggle) (2.10)\n",
            "Requirement already satisfied: kaggle-cli in /anaconda/envs/azureml_py36/lib/python3.6/site-packages (0.12.13)\n",
            "Requirement already satisfied: progressbar2<3.35,>=3.34.3 in /anaconda/envs/azureml_py36/lib/python3.6/site-packages (from kaggle-cli) (3.34.3)\n",
            "Requirement already satisfied: MechanicalSoup<0.9,>=0.7.0 in /anaconda/envs/azureml_py36/lib/python3.6/site-packages (from kaggle-cli) (0.8.0)\n",
            "Requirement already satisfied: lxml<4.1,>=4.0.0 in /anaconda/envs/azureml_py36/lib/python3.6/site-packages (from kaggle-cli) (4.0.0)\n",
            "Requirement already satisfied: beautifulsoup4<4.7,>=4.6.0 in /anaconda/envs/azureml_py36/lib/python3.6/site-packages (from kaggle-cli) (4.6.3)\n",
            "Requirement already satisfied: configparser in /anaconda/envs/azureml_py36/lib/python3.6/site-packages (from kaggle-cli) (3.7.4)\n",
            "Requirement already satisfied: cssselect<1.1,>=1.0.1 in /anaconda/envs/azureml_py36/lib/python3.6/site-packages (from kaggle-cli) (1.0.3)\n",
            "Requirement already satisfied: cliff<2.9,>=2.8.0 in /anaconda/envs/azureml_py36/lib/python3.6/site-packages (from kaggle-cli) (2.8.3)\n",
            "Requirement already satisfied: python-utils>=2.1.0 in /anaconda/envs/azureml_py36/lib/python3.6/site-packages (from progressbar2<3.35,>=3.34.3->kaggle-cli) (2.5.6)\n",
            "Requirement already satisfied: requests>=2.0 in /anaconda/envs/azureml_py36/lib/python3.6/site-packages (from MechanicalSoup<0.9,>=0.7.0->kaggle-cli) (2.25.1)\n",
            "Requirement already satisfied: six>=1.4 in /anaconda/envs/azureml_py36/lib/python3.6/site-packages (from MechanicalSoup<0.9,>=0.7.0->kaggle-cli) (1.15.0)\n",
            "Requirement already satisfied: stevedore>=1.20.0 in /anaconda/envs/azureml_py36/lib/python3.6/site-packages (from cliff<2.9,>=2.8.0->kaggle-cli) (3.3.0)\n",
            "Requirement already satisfied: PyYAML>=3.10.0 in /anaconda/envs/azureml_py36/lib/python3.6/site-packages (from cliff<2.9,>=2.8.0->kaggle-cli) (5.4.1)\n",
            "Requirement already satisfied: pbr!=2.1.0,>=2.0.0 in /anaconda/envs/azureml_py36/lib/python3.6/site-packages (from cliff<2.9,>=2.8.0->kaggle-cli) (5.5.1)\n",
            "Requirement already satisfied: cmd2>=0.6.7; python_version >= \"3.0\" in /anaconda/envs/azureml_py36/lib/python3.6/site-packages (from cliff<2.9,>=2.8.0->kaggle-cli) (1.5.0)\n",
            "Requirement already satisfied: PrettyTable<0.8,>=0.7.1 in /anaconda/envs/azureml_py36/lib/python3.6/site-packages (from cliff<2.9,>=2.8.0->kaggle-cli) (0.7.2)\n",
            "Requirement already satisfied: pyparsing>=2.1.0 in /anaconda/envs/azureml_py36/lib/python3.6/site-packages (from cliff<2.9,>=2.8.0->kaggle-cli) (2.4.7)\n",
            "Requirement already satisfied: idna<3,>=2.5 in /anaconda/envs/azureml_py36/lib/python3.6/site-packages (from requests>=2.0->MechanicalSoup<0.9,>=0.7.0->kaggle-cli) (2.10)\n",
            "Requirement already satisfied: urllib3<1.27,>=1.21.1 in /anaconda/envs/azureml_py36/lib/python3.6/site-packages (from requests>=2.0->MechanicalSoup<0.9,>=0.7.0->kaggle-cli) (1.25.11)\n",
            "Requirement already satisfied: chardet<5,>=3.0.2 in /anaconda/envs/azureml_py36/lib/python3.6/site-packages (from requests>=2.0->MechanicalSoup<0.9,>=0.7.0->kaggle-cli) (4.0.0)\n",
            "Requirement already satisfied: certifi>=2017.4.17 in /anaconda/envs/azureml_py36/lib/python3.6/site-packages (from requests>=2.0->MechanicalSoup<0.9,>=0.7.0->kaggle-cli) (2020.12.5)\n",
            "Requirement already satisfied: importlib-metadata>=1.7.0; python_version < \"3.8\" in /anaconda/envs/azureml_py36/lib/python3.6/site-packages (from stevedore>=1.20.0->cliff<2.9,>=2.8.0->kaggle-cli) (3.4.0)\n",
            "Requirement already satisfied: pyperclip>=1.6 in /anaconda/envs/azureml_py36/lib/python3.6/site-packages (from cmd2>=0.6.7; python_version >= \"3.0\"->cliff<2.9,>=2.8.0->kaggle-cli) (1.8.2)\n",
            "Requirement already satisfied: attrs>=16.3.0 in /anaconda/envs/azureml_py36/lib/python3.6/site-packages (from cmd2>=0.6.7; python_version >= \"3.0\"->cliff<2.9,>=2.8.0->kaggle-cli) (20.3.0)\n",
            "Requirement already satisfied: wcwidth>=0.1.7 in /anaconda/envs/azureml_py36/lib/python3.6/site-packages (from cmd2>=0.6.7; python_version >= \"3.0\"->cliff<2.9,>=2.8.0->kaggle-cli) (0.2.5)\n",
            "Requirement already satisfied: colorama>=0.3.7 in /anaconda/envs/azureml_py36/lib/python3.6/site-packages (from cmd2>=0.6.7; python_version >= \"3.0\"->cliff<2.9,>=2.8.0->kaggle-cli) (0.4.4)\n",
            "Requirement already satisfied: typing-extensions>=3.6.4; python_version < \"3.8\" in /anaconda/envs/azureml_py36/lib/python3.6/site-packages (from importlib-metadata>=1.7.0; python_version < \"3.8\"->stevedore>=1.20.0->cliff<2.9,>=2.8.0->kaggle-cli) (3.7.4.3)\n",
            "Requirement already satisfied: zipp>=0.5 in /anaconda/envs/azureml_py36/lib/python3.6/site-packages (from importlib-metadata>=1.7.0; python_version < \"3.8\"->stevedore>=1.20.0->cliff<2.9,>=2.8.0->kaggle-cli) (3.4.0)\n"
          ]
        }
      ],
      "execution_count": 1,
      "metadata": {
        "collapsed": true,
        "jupyter": {
          "source_hidden": false,
          "outputs_hidden": false
        },
        "nteract": {
          "transient": {
            "deleting": false
          }
        }
      }
    },
    {
      "cell_type": "code",
      "source": [
        "from azureml.core import Workspace, Experiment\n",
        "from azureml.core.compute import ComputeTarget, AmlCompute\n",
        "from azureml.core.compute_target import ComputeTargetException\n",
        "from azureml.core import ScriptRunConfig, Dataset\n",
        "from azureml.widgets import RunDetails\n",
        "from azureml.train.sklearn import SKLearn\n",
        "from azureml.train.hyperdrive.run import PrimaryMetricGoal\n",
        "from azureml.train.automl import AutoMLConfig\n",
        "from azureml.train.hyperdrive.parameter_expressions import uniform\n",
        "from azureml.data.dataset_factory import TabularDatasetFactory\n",
        "from sklearn.model_selection import train_test_split\n",
        "from trainCovid19Dataset import clean_data\n",
        "import os\n",
        "import pandas as pd\n",
        "import shutil"
      ],
      "outputs": [],
      "execution_count": 2,
      "metadata": {
        "collapsed": false,
        "gather": {
          "logged": 1615375268507
        },
        "jupyter": {
          "outputs_hidden": false,
          "source_hidden": false
        },
        "nteract": {
          "transient": {
            "deleting": false
          }
        }
      }
    },
    {
      "cell_type": "markdown",
      "source": [
        "## Initialize Workspace"
      ],
      "metadata": {}
    },
    {
      "cell_type": "code",
      "source": [
        "# Get current workspace from config\n",
        "ws = Workspace.from_config()\n",
        "    \n",
        "ws.get_details()\n",
        "print('Workspace name: ' + ws.name, \n",
        "      'Azure region: ' + ws.location, \n",
        "      'Subscription id: ' + ws.subscription_id, \n",
        "      'Resource group: ' + ws.resource_group, sep = '\\n')\n",
        "\n",
        "project_folder = './capstone-project'\n",
        "# choose a name for experiment\n",
        "experiment_name = 'Covid19VaccinationExperiment'\n",
        "experiment=Experiment(ws, experiment_name)\n",
        "experiment"
      ],
      "outputs": [
        {
          "output_type": "stream",
          "name": "stdout",
          "text": [
            "Workspace name: quick-starts-ws-140146\n",
            "Azure region: southcentralus\n",
            "Subscription id: cdbe0b43-92a0-4715-838a-f2648cc7ad21\n",
            "Resource group: aml-quickstarts-140146\n"
          ]
        },
        {
          "output_type": "execute_result",
          "execution_count": 3,
          "data": {
            "text/plain": "Experiment(Name: Covid19VaccinationExperiment,\nWorkspace: quick-starts-ws-140146)",
            "text/html": "<table style=\"width:100%\"><tr><th>Name</th><th>Workspace</th><th>Report Page</th><th>Docs Page</th></tr><tr><td>Covid19VaccinationExperiment</td><td>quick-starts-ws-140146</td><td><a href=\"https://ml.azure.com/experiments/Covid19VaccinationExperiment?wsid=/subscriptions/cdbe0b43-92a0-4715-838a-f2648cc7ad21/resourcegroups/aml-quickstarts-140146/workspaces/quick-starts-ws-140146\" target=\"_blank\" rel=\"noopener\">Link to Azure Machine Learning studio</a></td><td><a href=\"https://docs.microsoft.com/en-us/python/api/azureml-core/azureml.core.experiment.Experiment?view=azure-ml-py\" target=\"_blank\" rel=\"noopener\">Link to Documentation</a></td></tr></table>"
          },
          "metadata": {}
        }
      ],
      "execution_count": 3,
      "metadata": {
        "gather": {
          "logged": 1615375269758
        }
      }
    },
    {
      "cell_type": "markdown",
      "source": [
        "## Create Cluster\n",
        "\n",
        "Get cluster if it exists else create one"
      ],
      "metadata": {}
    },
    {
      "cell_type": "code",
      "source": [
        "# Create compute cluster\n",
        "cpu_cluster_name = \"Covid19Cluster\"\n",
        "try:\n",
        "    cpu_cluster = ComputeTarget(workspace=ws, name=cpu_cluster_name)\n",
        "    print('A cluster with the same name already exists. If you are trying to create a new one please use a new cluster name')\n",
        "except ComputeTargetException:\n",
        "    print('Creating a new compute target...')\n",
        "    compute_config = AmlCompute.provisioning_configuration(vm_size='STANDARD_D2_V2',max_nodes=4,identity_type=\"SystemAssigned\")\n",
        "    cpu_cluster = ComputeTarget.create(ws, cpu_cluster_name, compute_config)\n",
        "cpu_cluster.wait_for_completion(show_output=True)\n",
        "# Get a detailed status for the current cluster. \n",
        "print(cpu_cluster.get_status().serialize())"
      ],
      "outputs": [
        {
          "output_type": "stream",
          "name": "stdout",
          "text": [
            "A cluster with the same name already exists. If you are trying to create a new one please use a new cluster name\n",
            "Succeeded\n",
            "AmlCompute wait for completion finished\n",
            "\n",
            "Minimum number of nodes requested have been provisioned\n",
            "{'currentNodeCount': 0, 'targetNodeCount': 4, 'nodeStateCounts': {'preparingNodeCount': 0, 'runningNodeCount': 0, 'idleNodeCount': 0, 'unusableNodeCount': 0, 'leavingNodeCount': 0, 'preemptedNodeCount': 0}, 'allocationState': 'Resizing', 'allocationStateTransitionTime': '2021-03-10T11:17:52.371000+00:00', 'errors': None, 'creationTime': '2021-03-10T10:21:50.752146+00:00', 'modifiedTime': '2021-03-10T10:22:06.565764+00:00', 'provisioningState': 'Succeeded', 'provisioningStateTransitionTime': None, 'scaleSettings': {'minNodeCount': 0, 'maxNodeCount': 4, 'nodeIdleTimeBeforeScaleDown': 'PT120S'}, 'vmPriority': 'Dedicated', 'vmSize': 'STANDARD_D2_V2'}\n"
          ]
        }
      ],
      "execution_count": 4,
      "metadata": {
        "gather": {
          "logged": 1615375270241
        }
      }
    },
    {
      "cell_type": "markdown",
      "source": [
        "## Dataset\n",
        "\n",
        "### Overview\n",
        "\n",
        "I Chose a COVID-19 World Vaccination Dataset that holds a track of the world vaccination including the name of the country, Which vaccines have been used by country, and how many have been vaccinated by Country.\n",
        "\n",
        "Since the covid-19 vaccination is among the hottest subjects in the world, and as a member of the society being interested in such statistic calculations can help further scientists or even regular people to better understand the global effect of this vaccine all over the world.\n",
        "\n",
        "I used Kaggle's API to download the Dataset.\n",
        "\n",
        "TODO: Get data. In the cell below, write code to access the data you will be using in this project. Remember that the dataset needs to be external."
      ],
      "metadata": {}
    },
    {
      "cell_type": "code",
      "source": [
        "# Try to load the dataset from the Workspace. Otherwise, create it from the file\n",
        "found = False\n",
        "key = \"Covid19Dataset\"\n",
        "description_text = \"Covid19 Vaccination DataSet from Kaggle\"\n",
        "datastore = ws.get_default_datastore()\n",
        "datastore.upload_files(files = ['./kaggle/country_vaccinations.csv'],\n",
        "                       target_path ='train-dataset/tabular/',\n",
        "                       overwrite = True,\n",
        "                       show_progress = True)\n",
        "if key in ws.datasets.keys(): \n",
        "    found = True\n",
        "    dataset = ws.datasets[key] \n",
        "\n",
        "if not found:\n",
        "    os.environ['KAGGLE_USERNAME']= 'ocherif'\n",
        "    os.environ['KAGGLE_KEY']= 'cb037f99cae382b7a67c68f8048e01be'\n",
        "    import kaggle\n",
        "    kaggle.api.authenticate()\n",
        "    kaggle.api.dataset_download_files('gpreda/covid-world-vaccination-progress', path='./starter_file/kaggle', unzip=True)\n",
        "    \n",
        "    ds = Dataset.Tabular.from_delimited_files(path = [(datastore, 'train-dataset/tabular/country_vaccinations.csv')])\n",
        "    \n",
        "    #Register Dataset in Workspace\n",
        "    dataset = ds.register(workspace=ws,\n",
        "                          name=key,\n",
        "                          description=description_text)\n",
        "\n",
        "df = dataset.to_pandas_dataframe().fillna(0)\n",
        "df.describe()"
      ],
      "outputs": [
        {
          "output_type": "stream",
          "name": "stdout",
          "text": [
            "Uploading an estimated of 1 files\n",
            "Uploading ./kaggle/country_vaccinations.csv\n",
            "Uploaded ./kaggle/country_vaccinations.csv, 1 files out of an estimated total of 1\n",
            "Uploaded 1 files\n"
          ]
        },
        {
          "output_type": "execute_result",
          "execution_count": 5,
          "data": {
            "text/plain": "       total_vaccinations  people_vaccinated  people_fully_vaccinated  \\\ncount        5.457000e+03       5.457000e+03             5.457000e+03   \nmean         1.268187e+06       9.322980e+05             2.314462e+05   \nstd          5.533060e+06       4.001554e+06             1.520050e+06   \nmin          0.000000e+00       0.000000e+00             0.000000e+00   \n25%          0.000000e+00       0.000000e+00             0.000000e+00   \n50%          2.342900e+04       8.669000e+03             0.000000e+00   \n75%          4.387080e+05       2.761030e+05             2.482700e+04   \nmax          9.035175e+07       5.887371e+07             3.068688e+07   \n\n       daily_vaccinations_raw  daily_vaccinations  \\\ncount            5.457000e+03        5.457000e+03   \nmean             4.309916e+04        5.563308e+04   \nstd              1.750228e+05        1.816005e+05   \nmin              0.000000e+00        0.000000e+00   \n25%              0.000000e+00        9.640000e+02   \n50%              1.770000e+02        5.508000e+03   \n75%              1.506700e+04        2.648600e+04   \nmax              2.904229e+06        2.159392e+06   \n\n       total_vaccinations_per_hundred  people_vaccinated_per_hundred  \\\ncount                     5457.000000                    5457.000000   \nmean                         5.081378                       3.559987   \nstd                         12.498955                       8.415156   \nmin                          0.000000                       0.000000   \n25%                          0.000000                       0.000000   \n50%                          0.430000                       0.120000   \n75%                          4.560000                       3.150000   \nmax                        129.740000                      83.520000   \n\n       people_fully_vaccinated_per_hundred  daily_vaccinations_per_million  \ncount                          5457.000000                     5457.000000  \nmean                              1.013826                     2451.715778  \nstd                               4.040757                     4366.573612  \nmin                               0.000000                        0.000000  \n25%                               0.000000                      291.000000  \n50%                               0.000000                     1057.000000  \n75%                               0.540000                     2509.000000  \nmax                              46.220000                    54264.000000  ",
            "text/html": "<div>\n<style scoped>\n    .dataframe tbody tr th:only-of-type {\n        vertical-align: middle;\n    }\n\n    .dataframe tbody tr th {\n        vertical-align: top;\n    }\n\n    .dataframe thead th {\n        text-align: right;\n    }\n</style>\n<table border=\"1\" class=\"dataframe\">\n  <thead>\n    <tr style=\"text-align: right;\">\n      <th></th>\n      <th>total_vaccinations</th>\n      <th>people_vaccinated</th>\n      <th>people_fully_vaccinated</th>\n      <th>daily_vaccinations_raw</th>\n      <th>daily_vaccinations</th>\n      <th>total_vaccinations_per_hundred</th>\n      <th>people_vaccinated_per_hundred</th>\n      <th>people_fully_vaccinated_per_hundred</th>\n      <th>daily_vaccinations_per_million</th>\n    </tr>\n  </thead>\n  <tbody>\n    <tr>\n      <th>count</th>\n      <td>5.457000e+03</td>\n      <td>5.457000e+03</td>\n      <td>5.457000e+03</td>\n      <td>5.457000e+03</td>\n      <td>5.457000e+03</td>\n      <td>5457.000000</td>\n      <td>5457.000000</td>\n      <td>5457.000000</td>\n      <td>5457.000000</td>\n    </tr>\n    <tr>\n      <th>mean</th>\n      <td>1.268187e+06</td>\n      <td>9.322980e+05</td>\n      <td>2.314462e+05</td>\n      <td>4.309916e+04</td>\n      <td>5.563308e+04</td>\n      <td>5.081378</td>\n      <td>3.559987</td>\n      <td>1.013826</td>\n      <td>2451.715778</td>\n    </tr>\n    <tr>\n      <th>std</th>\n      <td>5.533060e+06</td>\n      <td>4.001554e+06</td>\n      <td>1.520050e+06</td>\n      <td>1.750228e+05</td>\n      <td>1.816005e+05</td>\n      <td>12.498955</td>\n      <td>8.415156</td>\n      <td>4.040757</td>\n      <td>4366.573612</td>\n    </tr>\n    <tr>\n      <th>min</th>\n      <td>0.000000e+00</td>\n      <td>0.000000e+00</td>\n      <td>0.000000e+00</td>\n      <td>0.000000e+00</td>\n      <td>0.000000e+00</td>\n      <td>0.000000</td>\n      <td>0.000000</td>\n      <td>0.000000</td>\n      <td>0.000000</td>\n    </tr>\n    <tr>\n      <th>25%</th>\n      <td>0.000000e+00</td>\n      <td>0.000000e+00</td>\n      <td>0.000000e+00</td>\n      <td>0.000000e+00</td>\n      <td>9.640000e+02</td>\n      <td>0.000000</td>\n      <td>0.000000</td>\n      <td>0.000000</td>\n      <td>291.000000</td>\n    </tr>\n    <tr>\n      <th>50%</th>\n      <td>2.342900e+04</td>\n      <td>8.669000e+03</td>\n      <td>0.000000e+00</td>\n      <td>1.770000e+02</td>\n      <td>5.508000e+03</td>\n      <td>0.430000</td>\n      <td>0.120000</td>\n      <td>0.000000</td>\n      <td>1057.000000</td>\n    </tr>\n    <tr>\n      <th>75%</th>\n      <td>4.387080e+05</td>\n      <td>2.761030e+05</td>\n      <td>2.482700e+04</td>\n      <td>1.506700e+04</td>\n      <td>2.648600e+04</td>\n      <td>4.560000</td>\n      <td>3.150000</td>\n      <td>0.540000</td>\n      <td>2509.000000</td>\n    </tr>\n    <tr>\n      <th>max</th>\n      <td>9.035175e+07</td>\n      <td>5.887371e+07</td>\n      <td>3.068688e+07</td>\n      <td>2.904229e+06</td>\n      <td>2.159392e+06</td>\n      <td>129.740000</td>\n      <td>83.520000</td>\n      <td>46.220000</td>\n      <td>54264.000000</td>\n    </tr>\n  </tbody>\n</table>\n</div>"
          },
          "metadata": {}
        }
      ],
      "execution_count": 5,
      "metadata": {
        "gather": {
          "logged": 1615375279517
        }
      }
    },
    {
      "cell_type": "code",
      "source": [
        "# preview the first 10 rows of the dataset\n",
        "df.head(10)"
      ],
      "outputs": [
        {
          "output_type": "execute_result",
          "execution_count": 6,
          "data": {
            "text/plain": "   country iso_code       date  total_vaccinations  people_vaccinated  \\\n0  Albania      ALB 2021-01-10                 0.0                0.0   \n1  Albania      ALB 2021-01-11                 0.0                0.0   \n2  Albania      ALB 2021-01-12               128.0              128.0   \n3  Albania      ALB 2021-01-13               188.0              188.0   \n4  Albania      ALB 2021-01-14               266.0              266.0   \n5  Albania      ALB 2021-01-15               308.0              308.0   \n6  Albania      ALB 2021-01-16               369.0              369.0   \n7  Albania      ALB 2021-01-17               405.0              405.0   \n8  Albania      ALB 2021-01-18               447.0              447.0   \n9  Albania      ALB 2021-01-19               483.0              483.0   \n\n   people_fully_vaccinated  daily_vaccinations_raw  daily_vaccinations  \\\n0                      0.0                     0.0                 0.0   \n1                      0.0                     0.0                64.0   \n2                      0.0                     0.0                64.0   \n3                      0.0                    60.0                63.0   \n4                      0.0                    78.0                66.0   \n5                      0.0                    42.0                62.0   \n6                      0.0                    61.0                62.0   \n7                      0.0                    36.0                58.0   \n8                      0.0                    42.0                55.0   \n9                      0.0                    36.0                51.0   \n\n   total_vaccinations_per_hundred  people_vaccinated_per_hundred  \\\n0                            0.00                           0.00   \n1                            0.00                           0.00   \n2                            0.00                           0.00   \n3                            0.01                           0.01   \n4                            0.01                           0.01   \n5                            0.01                           0.01   \n6                            0.01                           0.01   \n7                            0.01                           0.01   \n8                            0.02                           0.02   \n9                            0.02                           0.02   \n\n   people_fully_vaccinated_per_hundred  daily_vaccinations_per_million  \\\n0                                  0.0                             0.0   \n1                                  0.0                            22.0   \n2                                  0.0                            22.0   \n3                                  0.0                            22.0   \n4                                  0.0                            23.0   \n5                                  0.0                            22.0   \n6                                  0.0                            22.0   \n7                                  0.0                            20.0   \n8                                  0.0                            19.0   \n9                                  0.0                            18.0   \n\n          vaccines         source_name  \\\n0  Pfizer/BioNTech  Ministry of Health   \n1  Pfizer/BioNTech  Ministry of Health   \n2  Pfizer/BioNTech  Ministry of Health   \n3  Pfizer/BioNTech  Ministry of Health   \n4  Pfizer/BioNTech  Ministry of Health   \n5  Pfizer/BioNTech  Ministry of Health   \n6  Pfizer/BioNTech  Ministry of Health   \n7  Pfizer/BioNTech  Ministry of Health   \n8  Pfizer/BioNTech  Ministry of Health   \n9  Pfizer/BioNTech  Ministry of Health   \n\n                                      source_website  \n0  https://shendetesia.gov.al/covid19-ministria-e...  \n1  https://shendetesia.gov.al/covid19-ministria-e...  \n2  https://shendetesia.gov.al/covid19-ministria-e...  \n3  https://shendetesia.gov.al/covid19-ministria-e...  \n4  https://shendetesia.gov.al/covid19-ministria-e...  \n5  https://shendetesia.gov.al/covid19-ministria-e...  \n6  https://shendetesia.gov.al/covid19-ministria-e...  \n7  https://shendetesia.gov.al/covid19-ministria-e...  \n8  https://shendetesia.gov.al/covid19-ministria-e...  \n9  https://shendetesia.gov.al/covid19-ministria-e...  ",
            "text/html": "<div>\n<style scoped>\n    .dataframe tbody tr th:only-of-type {\n        vertical-align: middle;\n    }\n\n    .dataframe tbody tr th {\n        vertical-align: top;\n    }\n\n    .dataframe thead th {\n        text-align: right;\n    }\n</style>\n<table border=\"1\" class=\"dataframe\">\n  <thead>\n    <tr style=\"text-align: right;\">\n      <th></th>\n      <th>country</th>\n      <th>iso_code</th>\n      <th>date</th>\n      <th>total_vaccinations</th>\n      <th>people_vaccinated</th>\n      <th>people_fully_vaccinated</th>\n      <th>daily_vaccinations_raw</th>\n      <th>daily_vaccinations</th>\n      <th>total_vaccinations_per_hundred</th>\n      <th>people_vaccinated_per_hundred</th>\n      <th>people_fully_vaccinated_per_hundred</th>\n      <th>daily_vaccinations_per_million</th>\n      <th>vaccines</th>\n      <th>source_name</th>\n      <th>source_website</th>\n    </tr>\n  </thead>\n  <tbody>\n    <tr>\n      <th>0</th>\n      <td>Albania</td>\n      <td>ALB</td>\n      <td>2021-01-10</td>\n      <td>0.0</td>\n      <td>0.0</td>\n      <td>0.0</td>\n      <td>0.0</td>\n      <td>0.0</td>\n      <td>0.00</td>\n      <td>0.00</td>\n      <td>0.0</td>\n      <td>0.0</td>\n      <td>Pfizer/BioNTech</td>\n      <td>Ministry of Health</td>\n      <td>https://shendetesia.gov.al/covid19-ministria-e...</td>\n    </tr>\n    <tr>\n      <th>1</th>\n      <td>Albania</td>\n      <td>ALB</td>\n      <td>2021-01-11</td>\n      <td>0.0</td>\n      <td>0.0</td>\n      <td>0.0</td>\n      <td>0.0</td>\n      <td>64.0</td>\n      <td>0.00</td>\n      <td>0.00</td>\n      <td>0.0</td>\n      <td>22.0</td>\n      <td>Pfizer/BioNTech</td>\n      <td>Ministry of Health</td>\n      <td>https://shendetesia.gov.al/covid19-ministria-e...</td>\n    </tr>\n    <tr>\n      <th>2</th>\n      <td>Albania</td>\n      <td>ALB</td>\n      <td>2021-01-12</td>\n      <td>128.0</td>\n      <td>128.0</td>\n      <td>0.0</td>\n      <td>0.0</td>\n      <td>64.0</td>\n      <td>0.00</td>\n      <td>0.00</td>\n      <td>0.0</td>\n      <td>22.0</td>\n      <td>Pfizer/BioNTech</td>\n      <td>Ministry of Health</td>\n      <td>https://shendetesia.gov.al/covid19-ministria-e...</td>\n    </tr>\n    <tr>\n      <th>3</th>\n      <td>Albania</td>\n      <td>ALB</td>\n      <td>2021-01-13</td>\n      <td>188.0</td>\n      <td>188.0</td>\n      <td>0.0</td>\n      <td>60.0</td>\n      <td>63.0</td>\n      <td>0.01</td>\n      <td>0.01</td>\n      <td>0.0</td>\n      <td>22.0</td>\n      <td>Pfizer/BioNTech</td>\n      <td>Ministry of Health</td>\n      <td>https://shendetesia.gov.al/covid19-ministria-e...</td>\n    </tr>\n    <tr>\n      <th>4</th>\n      <td>Albania</td>\n      <td>ALB</td>\n      <td>2021-01-14</td>\n      <td>266.0</td>\n      <td>266.0</td>\n      <td>0.0</td>\n      <td>78.0</td>\n      <td>66.0</td>\n      <td>0.01</td>\n      <td>0.01</td>\n      <td>0.0</td>\n      <td>23.0</td>\n      <td>Pfizer/BioNTech</td>\n      <td>Ministry of Health</td>\n      <td>https://shendetesia.gov.al/covid19-ministria-e...</td>\n    </tr>\n    <tr>\n      <th>5</th>\n      <td>Albania</td>\n      <td>ALB</td>\n      <td>2021-01-15</td>\n      <td>308.0</td>\n      <td>308.0</td>\n      <td>0.0</td>\n      <td>42.0</td>\n      <td>62.0</td>\n      <td>0.01</td>\n      <td>0.01</td>\n      <td>0.0</td>\n      <td>22.0</td>\n      <td>Pfizer/BioNTech</td>\n      <td>Ministry of Health</td>\n      <td>https://shendetesia.gov.al/covid19-ministria-e...</td>\n    </tr>\n    <tr>\n      <th>6</th>\n      <td>Albania</td>\n      <td>ALB</td>\n      <td>2021-01-16</td>\n      <td>369.0</td>\n      <td>369.0</td>\n      <td>0.0</td>\n      <td>61.0</td>\n      <td>62.0</td>\n      <td>0.01</td>\n      <td>0.01</td>\n      <td>0.0</td>\n      <td>22.0</td>\n      <td>Pfizer/BioNTech</td>\n      <td>Ministry of Health</td>\n      <td>https://shendetesia.gov.al/covid19-ministria-e...</td>\n    </tr>\n    <tr>\n      <th>7</th>\n      <td>Albania</td>\n      <td>ALB</td>\n      <td>2021-01-17</td>\n      <td>405.0</td>\n      <td>405.0</td>\n      <td>0.0</td>\n      <td>36.0</td>\n      <td>58.0</td>\n      <td>0.01</td>\n      <td>0.01</td>\n      <td>0.0</td>\n      <td>20.0</td>\n      <td>Pfizer/BioNTech</td>\n      <td>Ministry of Health</td>\n      <td>https://shendetesia.gov.al/covid19-ministria-e...</td>\n    </tr>\n    <tr>\n      <th>8</th>\n      <td>Albania</td>\n      <td>ALB</td>\n      <td>2021-01-18</td>\n      <td>447.0</td>\n      <td>447.0</td>\n      <td>0.0</td>\n      <td>42.0</td>\n      <td>55.0</td>\n      <td>0.02</td>\n      <td>0.02</td>\n      <td>0.0</td>\n      <td>19.0</td>\n      <td>Pfizer/BioNTech</td>\n      <td>Ministry of Health</td>\n      <td>https://shendetesia.gov.al/covid19-ministria-e...</td>\n    </tr>\n    <tr>\n      <th>9</th>\n      <td>Albania</td>\n      <td>ALB</td>\n      <td>2021-01-19</td>\n      <td>483.0</td>\n      <td>483.0</td>\n      <td>0.0</td>\n      <td>36.0</td>\n      <td>51.0</td>\n      <td>0.02</td>\n      <td>0.02</td>\n      <td>0.0</td>\n      <td>18.0</td>\n      <td>Pfizer/BioNTech</td>\n      <td>Ministry of Health</td>\n      <td>https://shendetesia.gov.al/covid19-ministria-e...</td>\n    </tr>\n  </tbody>\n</table>\n</div>"
          },
          "metadata": {}
        }
      ],
      "execution_count": 6,
      "metadata": {
        "gather": {
          "logged": 1615375283174
        }
      }
    },
    {
      "cell_type": "code",
      "source": [
        "# Use the clean_data function to clean your data.\n",
        "x, y = clean_data(df)\n",
        "data = pd.concat([x,y],axis=1)\n",
        "data.head()"
      ],
      "outputs": [
        {
          "output_type": "execute_result",
          "execution_count": 7,
          "data": {
            "text/plain": "   date  total_vaccinations  people_vaccinated  people_fully_vaccinated  \\\n0  2021                 0.0                0.0                      0.0   \n1  2021                 0.0                0.0                      0.0   \n2  2021               128.0              128.0                      0.0   \n3  2021               188.0              188.0                      0.0   \n4  2021               266.0              266.0                      0.0   \n\n   daily_vaccinations_raw  daily_vaccinations  total_vaccinations_per_hundred  \\\n0                     0.0                 0.0                            0.00   \n1                     0.0                64.0                            0.00   \n2                     0.0                64.0                            0.00   \n3                    60.0                63.0                            0.01   \n4                    78.0                66.0                            0.01   \n\n   people_vaccinated_per_hundred  daily_vaccinations_per_million  iso_code_0  \\\n0                           0.00                             0.0           0   \n1                           0.00                            22.0           0   \n2                           0.00                            22.0           0   \n3                           0.01                            22.0           0   \n4                           0.01                            23.0           0   \n\n   ...  source_Public Health France  \\\n0  ...                            0   \n1  ...                            0   \n2  ...                            0   \n3  ...                            0   \n4  ...                            0   \n\n   source_Regional governments via Coronavirus Brasil  \\\n0                                                  0    \n1                                                  0    \n2                                                  0    \n3                                                  0    \n4                                                  0    \n\n   source_Robert Koch Institut  source_Saudi Health Council  source_Sciensano  \\\n0                            0                            0                 0   \n1                            0                            0                 0   \n2                            0                            0                 0   \n3                            0                            0                 0   \n4                            0                            0                 0   \n\n   source_Secretary of Health  source_Social Security Institute  \\\n0                           0                                 0   \n1                           0                                 0   \n2                           0                                 0   \n3                           0                                 0   \n4                           0                                 0   \n\n   source_Statens Serum Institut  month  used_Vaccine  \n0                              0      1             0  \n1                              0      1             0  \n2                              0      1             0  \n3                              0      1             0  \n4                              0      1             0  \n\n[5 rows x 238 columns]",
            "text/html": "<div>\n<style scoped>\n    .dataframe tbody tr th:only-of-type {\n        vertical-align: middle;\n    }\n\n    .dataframe tbody tr th {\n        vertical-align: top;\n    }\n\n    .dataframe thead th {\n        text-align: right;\n    }\n</style>\n<table border=\"1\" class=\"dataframe\">\n  <thead>\n    <tr style=\"text-align: right;\">\n      <th></th>\n      <th>date</th>\n      <th>total_vaccinations</th>\n      <th>people_vaccinated</th>\n      <th>people_fully_vaccinated</th>\n      <th>daily_vaccinations_raw</th>\n      <th>daily_vaccinations</th>\n      <th>total_vaccinations_per_hundred</th>\n      <th>people_vaccinated_per_hundred</th>\n      <th>daily_vaccinations_per_million</th>\n      <th>iso_code_0</th>\n      <th>...</th>\n      <th>source_Public Health France</th>\n      <th>source_Regional governments via Coronavirus Brasil</th>\n      <th>source_Robert Koch Institut</th>\n      <th>source_Saudi Health Council</th>\n      <th>source_Sciensano</th>\n      <th>source_Secretary of Health</th>\n      <th>source_Social Security Institute</th>\n      <th>source_Statens Serum Institut</th>\n      <th>month</th>\n      <th>used_Vaccine</th>\n    </tr>\n  </thead>\n  <tbody>\n    <tr>\n      <th>0</th>\n      <td>2021</td>\n      <td>0.0</td>\n      <td>0.0</td>\n      <td>0.0</td>\n      <td>0.0</td>\n      <td>0.0</td>\n      <td>0.00</td>\n      <td>0.00</td>\n      <td>0.0</td>\n      <td>0</td>\n      <td>...</td>\n      <td>0</td>\n      <td>0</td>\n      <td>0</td>\n      <td>0</td>\n      <td>0</td>\n      <td>0</td>\n      <td>0</td>\n      <td>0</td>\n      <td>1</td>\n      <td>0</td>\n    </tr>\n    <tr>\n      <th>1</th>\n      <td>2021</td>\n      <td>0.0</td>\n      <td>0.0</td>\n      <td>0.0</td>\n      <td>0.0</td>\n      <td>64.0</td>\n      <td>0.00</td>\n      <td>0.00</td>\n      <td>22.0</td>\n      <td>0</td>\n      <td>...</td>\n      <td>0</td>\n      <td>0</td>\n      <td>0</td>\n      <td>0</td>\n      <td>0</td>\n      <td>0</td>\n      <td>0</td>\n      <td>0</td>\n      <td>1</td>\n      <td>0</td>\n    </tr>\n    <tr>\n      <th>2</th>\n      <td>2021</td>\n      <td>128.0</td>\n      <td>128.0</td>\n      <td>0.0</td>\n      <td>0.0</td>\n      <td>64.0</td>\n      <td>0.00</td>\n      <td>0.00</td>\n      <td>22.0</td>\n      <td>0</td>\n      <td>...</td>\n      <td>0</td>\n      <td>0</td>\n      <td>0</td>\n      <td>0</td>\n      <td>0</td>\n      <td>0</td>\n      <td>0</td>\n      <td>0</td>\n      <td>1</td>\n      <td>0</td>\n    </tr>\n    <tr>\n      <th>3</th>\n      <td>2021</td>\n      <td>188.0</td>\n      <td>188.0</td>\n      <td>0.0</td>\n      <td>60.0</td>\n      <td>63.0</td>\n      <td>0.01</td>\n      <td>0.01</td>\n      <td>22.0</td>\n      <td>0</td>\n      <td>...</td>\n      <td>0</td>\n      <td>0</td>\n      <td>0</td>\n      <td>0</td>\n      <td>0</td>\n      <td>0</td>\n      <td>0</td>\n      <td>0</td>\n      <td>1</td>\n      <td>0</td>\n    </tr>\n    <tr>\n      <th>4</th>\n      <td>2021</td>\n      <td>266.0</td>\n      <td>266.0</td>\n      <td>0.0</td>\n      <td>78.0</td>\n      <td>66.0</td>\n      <td>0.01</td>\n      <td>0.01</td>\n      <td>23.0</td>\n      <td>0</td>\n      <td>...</td>\n      <td>0</td>\n      <td>0</td>\n      <td>0</td>\n      <td>0</td>\n      <td>0</td>\n      <td>0</td>\n      <td>0</td>\n      <td>0</td>\n      <td>1</td>\n      <td>0</td>\n    </tr>\n  </tbody>\n</table>\n<p>5 rows × 238 columns</p>\n</div>"
          },
          "metadata": {}
        }
      ],
      "execution_count": 7,
      "metadata": {
        "gather": {
          "logged": 1615375285996
        }
      }
    },
    {
      "cell_type": "code",
      "source": [
        "# Split data into train and test sets.\n",
        "training_data,validation_data = train_test_split(data,test_size = 0.3,random_state = 42,shuffle=True)"
      ],
      "outputs": [],
      "execution_count": 8,
      "metadata": {
        "gather": {
          "logged": 1615375289665
        }
      }
    },
    {
      "cell_type": "code",
      "source": [
        "# Create necessary folders\n",
        "if \"training\" not in os.listdir():\n",
        "    os.mkdir(\"./training\")\n",
        "if \"data\" not in os.listdir():\n",
        "    os.mkdir(\"./data\")\n",
        "# store training_dataset into it using datastore\n",
        "script_folder = './training/'    \n",
        "os.makedirs(script_folder, exist_ok=True)\n",
        "shutil.copy('trainCovid19Dataset.py', script_folder)"
      ],
      "outputs": [
        {
          "output_type": "execute_result",
          "execution_count": 9,
          "data": {
            "text/plain": "'./training/trainCovid19Dataset.py'"
          },
          "metadata": {}
        }
      ],
      "execution_count": 9,
      "metadata": {
        "gather": {
          "logged": 1615375292816
        }
      }
    },
    {
      "cell_type": "markdown",
      "source": [
        "## AutoML Configuration\n",
        "TODO: Explain why you chose the automl settings and cofiguration you used below.\n",
        "The settings used below refers to a classification task within a number of settings chosen based on the existing workspace and cluster configuration restrictions "
      ],
      "metadata": {}
    },
    {
      "cell_type": "code",
      "source": [
        "#convert the training dataset to a CSV file and store it under the training folder\n",
        "training_data.to_csv('training/training_data.csv')\n",
        "#Create an experiment for the AutoML testing script\n",
        "exp = Experiment(workspace=ws, name=\"Covid19AutoMlExperiment\")\n",
        "\n",
        "# Get the dataset from the data folder\n",
        "datastore.upload_files(files = ['training/training_data.csv'],\n",
        "                       target_path ='training-data/',\n",
        "                       overwrite = True,\n",
        "                       show_progress = True)\n",
        "training_dataset = TabularDatasetFactory.from_delimited_files(path=[(datastore,('training-data/training_data.csv'))])\n",
        "#training_dataset = Dataset.Tabular.from_delimited_files(path = [(datastore, 'train-dataset/tabular/country_vaccinations.csv')])\n",
        "automl_settings = {\n",
        "    \"n_cross_validations\": 3,\n",
        "    \"primary_metric\": 'accuracy',\n",
        "    \"enable_early_stopping\": True,\n",
        "    \"experiment_timeout_hours\": 1.0,\n",
        "    \"max_concurrent_iterations\": 4,\n",
        "    \"max_cores_per_iteration\": -1,\n",
        "}\n",
        "automl_config = AutoMLConfig(task = 'classification',\n",
        "                             compute_target = cpu_cluster,\n",
        "                             training_data = training_dataset,\n",
        "                             label_column_name = 'used_Vaccine',\n",
        "                             featurization= 'auto',\n",
        "                             path=project_folder,\n",
        "                             debug_log = \"Covid_automl_errors.log\",\n",
        "                             **automl_settings)"
      ],
      "outputs": [
        {
          "output_type": "stream",
          "name": "stdout",
          "text": [
            "Uploading an estimated of 1 files\n",
            "Uploading training/training_data.csv\n",
            "Uploaded training/training_data.csv, 1 files out of an estimated total of 1\n",
            "Uploaded 1 files\n"
          ]
        }
      ],
      "execution_count": 10,
      "metadata": {
        "collapsed": false,
        "gather": {
          "logged": 1615375299164
        },
        "jupyter": {
          "outputs_hidden": false,
          "source_hidden": false
        },
        "nteract": {
          "transient": {
            "deleting": false
          }
        }
      }
    },
    {
      "cell_type": "code",
      "source": [
        "# Experiment Submission\n",
        "tag = {\"Covid19\": \"Capstone project: Covid19 AutoML Experiment\"}\n",
        "remote_run = experiment.submit(automl_config,tags=tag, show_output=True)"
      ],
      "outputs": [
        {
          "output_type": "stream",
          "name": "stdout",
          "text": [
            "Running on remote.\n",
            "No run_configuration provided, running on Covid19Cluster with default configuration\n",
            "Running on remote compute: Covid19Cluster\n",
            "Parent Run ID: AutoML_f030d030-c065-4663-b15c-1e8800890a0d\n",
            "\n",
            "Current status: FeaturesGeneration. Generating features for the dataset.\n",
            "Current status: DatasetFeaturization. Beginning to fit featurizers and featurize the dataset.\n",
            "Current status: DatasetCrossValidationSplit. Generating individually featurized CV splits.\n",
            "Current status: ModelSelection. Beginning model selection.\n",
            "\n",
            "****************************************************************************************************\n",
            "DATA GUARDRAILS: \n",
            "\n",
            "TYPE:         Class balancing detection\n",
            "STATUS:       PASSED\n",
            "DESCRIPTION:  Your inputs were analyzed, and all classes are balanced in your training data.\n",
            "              Learn more about imbalanced data: https://aka.ms/AutomatedMLImbalancedData\n",
            "\n",
            "****************************************************************************************************\n",
            "\n",
            "TYPE:         Missing feature values imputation\n",
            "STATUS:       PASSED\n",
            "DESCRIPTION:  No feature missing values were detected in the training data.\n",
            "              Learn more about missing value imputation: https://aka.ms/AutomatedMLFeaturization\n",
            "\n",
            "****************************************************************************************************\n",
            "\n",
            "TYPE:         High cardinality feature detection\n",
            "STATUS:       PASSED\n",
            "DESCRIPTION:  Your inputs were analyzed, and no high cardinality features were detected.\n",
            "              Learn more about high cardinality feature handling: https://aka.ms/AutomatedMLFeaturization\n",
            "\n",
            "****************************************************************************************************\n",
            "\n",
            "****************************************************************************************************\n",
            "ITERATION: The iteration being evaluated.\n",
            "PIPELINE: A summary description of the pipeline being evaluated.\n",
            "DURATION: Time taken for the current iteration.\n",
            "METRIC: The result of computing score on the fitted pipeline.\n",
            "BEST: The best observed score thus far.\n",
            "****************************************************************************************************\n",
            "\n",
            " ITERATION   PIPELINE                                       DURATION      METRIC      BEST\n",
            "         0   MaxAbsScaler LightGBM                          0:05:59       1.0000    1.0000\n",
            "         3   MaxAbsScaler RandomForest                      0:06:00       0.9230    1.0000\n",
            "         2   MaxAbsScaler RandomForest                      0:05:56       0.9688    1.0000\n",
            "         1   MaxAbsScaler XGBoostClassifier                 0:05:52       1.0000    1.0000\n",
            "         4   MaxAbsScaler RandomForest                      0:05:55       0.9413    1.0000\n",
            "         5   MaxAbsScaler RandomForest                      0:05:40       0.9256    1.0000\n",
            "         6   SparseNormalizer XGBoostClassifier             0:06:26       1.0000    1.0000\n",
            "         7   MaxAbsScaler LogisticRegression                0:06:02       0.9455    1.0000\n",
            "         8   SparseNormalizer XGBoostClassifier             0:05:55       1.0000    1.0000\n",
            "         9   SparseNormalizer XGBoostClassifier             0:05:48       1.0000    1.0000\n",
            "        10   MaxAbsScaler LightGBM                          0:05:46       1.0000    1.0000\n",
            "        11   StandardScalerWrapper LightGBM                 0:05:58       0.9992    1.0000\n",
            "        12   MaxAbsScaler LightGBM                          0:05:54       1.0000    1.0000\n",
            "        13   SparseNormalizer XGBoostClassifier             0:05:49       0.9997    1.0000\n",
            "        14                                                  0:04:03          nan    1.0000\n",
            "ERROR: {\n",
            "    \"additional_properties\": {},\n",
            "    \"error\": {\n",
            "        \"additional_properties\": {\n",
            "            \"debugInfo\": null\n",
            "        },\n",
            "        \"code\": \"UserError\",\n",
            "        \"severity\": null,\n",
            "        \"message\": \"Experiment timeout reached, please consider increasing your experiment timeout.\",\n",
            "        \"message_format\": \"Experiment timeout reached, please consider increasing your experiment timeout.\",\n",
            "        \"message_parameters\": {},\n",
            "        \"reference_code\": null,\n",
            "        \"details_uri\": null,\n",
            "        \"target\": null,\n",
            "        \"details\": [],\n",
            "        \"inner_error\": {\n",
            "            \"additional_properties\": {},\n",
            "            \"code\": \"ResourceExhausted\",\n",
            "            \"inner_error\": {\n",
            "                \"additional_properties\": {},\n",
            "                \"code\": \"Timeout\",\n",
            "                \"inner_error\": {\n",
            "                    \"additional_properties\": {},\n",
            "                    \"code\": \"ExperimentTimeoutForIterations\",\n",
            "                    \"inner_error\": null\n",
            "                }\n",
            "            }\n",
            "        }\n",
            "    },\n",
            "    \"correlation\": null,\n",
            "    \"environment\": null,\n",
            "    \"location\": null,\n",
            "    \"time\": {},\n",
            "    \"component_name\": null\n",
            "}\n",
            "        15                                                  0:03:47          nan    1.0000\n",
            "ERROR: {\n",
            "    \"additional_properties\": {},\n",
            "    \"error\": {\n",
            "        \"additional_properties\": {\n",
            "            \"debugInfo\": null\n",
            "        },\n",
            "        \"code\": \"UserError\",\n",
            "        \"severity\": null,\n",
            "        \"message\": \"Experiment timeout reached, please consider increasing your experiment timeout.\",\n",
            "        \"message_format\": \"Experiment timeout reached, please consider increasing your experiment timeout.\",\n",
            "        \"message_parameters\": {},\n",
            "        \"reference_code\": null,\n",
            "        \"details_uri\": null,\n",
            "        \"target\": null,\n",
            "        \"details\": [],\n",
            "        \"inner_error\": {\n",
            "            \"additional_properties\": {},\n",
            "            \"code\": \"ResourceExhausted\",\n",
            "            \"inner_error\": {\n",
            "                \"additional_properties\": {},\n",
            "                \"code\": \"Timeout\",\n",
            "                \"inner_error\": {\n",
            "                    \"additional_properties\": {},\n",
            "                    \"code\": \"ExperimentTimeoutForIterations\",\n",
            "                    \"inner_error\": null\n",
            "                }\n",
            "            }\n",
            "        }\n",
            "    },\n",
            "    \"correlation\": null,\n",
            "    \"environment\": null,\n",
            "    \"location\": null,\n",
            "    \"time\": {},\n",
            "    \"component_name\": null\n",
            "}\n",
            "        16                                                  0:03:23          nan    1.0000\n",
            "ERROR: {\n",
            "    \"additional_properties\": {},\n",
            "    \"error\": {\n",
            "        \"additional_properties\": {\n",
            "            \"debugInfo\": null\n",
            "        },\n",
            "        \"code\": \"UserError\",\n",
            "        \"severity\": null,\n",
            "        \"message\": \"Experiment timeout reached, please consider increasing your experiment timeout.\",\n",
            "        \"message_format\": \"Experiment timeout reached, please consider increasing your experiment timeout.\",\n",
            "        \"message_parameters\": {},\n",
            "        \"reference_code\": null,\n",
            "        \"details_uri\": null,\n",
            "        \"target\": null,\n",
            "        \"details\": [],\n",
            "        \"inner_error\": {\n",
            "            \"additional_properties\": {},\n",
            "            \"code\": \"ResourceExhausted\",\n",
            "            \"inner_error\": {\n",
            "                \"additional_properties\": {},\n",
            "                \"code\": \"Timeout\",\n",
            "                \"inner_error\": {\n",
            "                    \"additional_properties\": {},\n",
            "                    \"code\": \"ExperimentTimeoutForIterations\",\n",
            "                    \"inner_error\": null\n",
            "                }\n",
            "            }\n",
            "        }\n",
            "    },\n",
            "    \"correlation\": null,\n",
            "    \"environment\": null,\n",
            "    \"location\": null,\n",
            "    \"time\": {},\n",
            "    \"component_name\": null\n",
            "}\n",
            "        17                                                  0:09:23          nan    1.0000\n",
            "ERROR: {\n",
            "    \"additional_properties\": {},\n",
            "    \"error\": {\n",
            "        \"additional_properties\": {\n",
            "            \"debugInfo\": null\n",
            "        },\n",
            "        \"code\": \"UserError\",\n",
            "        \"severity\": null,\n",
            "        \"message\": \"Experiment timeout reached, please consider increasing your experiment timeout.\",\n",
            "        \"message_format\": \"Experiment timeout reached, please consider increasing your experiment timeout.\",\n",
            "        \"message_parameters\": {},\n",
            "        \"reference_code\": null,\n",
            "        \"details_uri\": null,\n",
            "        \"target\": null,\n",
            "        \"details\": [],\n",
            "        \"inner_error\": {\n",
            "            \"additional_properties\": {},\n",
            "            \"code\": \"ResourceExhausted\",\n",
            "            \"inner_error\": {\n",
            "                \"additional_properties\": {},\n",
            "                \"code\": \"Timeout\",\n",
            "                \"inner_error\": {\n",
            "                    \"additional_properties\": {},\n",
            "                    \"code\": \"ExperimentTimeoutForIterations\",\n",
            "                    \"inner_error\": null\n",
            "                }\n",
            "            }\n",
            "        }\n",
            "    },\n",
            "    \"correlation\": null,\n",
            "    \"environment\": null,\n",
            "    \"location\": null,\n",
            "    \"time\": {},\n",
            "    \"component_name\": null\n",
            "}\n",
            "        18    VotingEnsemble                                0:06:05       1.0000    1.0000\n",
            "        19    StackEnsemble                                 0:06:08       1.0000    1.0000\n"
          ]
        }
      ],
      "execution_count": 11,
      "metadata": {
        "collapsed": false,
        "gather": {
          "logged": 1615383249168
        },
        "jupyter": {
          "outputs_hidden": false,
          "source_hidden": false
        },
        "nteract": {
          "transient": {
            "deleting": false
          }
        }
      }
    },
    {
      "cell_type": "markdown",
      "source": [
        "## Run Details\n",
        "\n",
        "OPTIONAL: Write about the different models trained and their performance. Why do you think some models did better than others?\n",
        "\n",
        "TODO: In the cell below, use the `RunDetails` widget to show the different experiments."
      ],
      "metadata": {}
    },
    {
      "cell_type": "code",
      "source": [
        "RunDetails(remote_run).show()\n",
        "remote_run.wait_for_completion(show_output=True)"
      ],
      "outputs": [],
      "execution_count": null,
      "metadata": {
        "collapsed": false,
        "gather": {
          "logged": 1615306875023
        },
        "jupyter": {
          "outputs_hidden": false,
          "source_hidden": false
        },
        "nteract": {
          "transient": {
            "deleting": false
          }
        }
      }
    },
    {
      "cell_type": "markdown",
      "source": [
        "## Best Model"
      ],
      "metadata": {}
    },
    {
      "cell_type": "code",
      "source": [
        "# Retrieve and save best model.\n",
        "best_automl_run, model = remote_run.get_output()\n",
        "\n",
        "# Get the metrics of the best selected run\n",
        "best_run_metrics = best_automl_run.get_metrics()\n",
        "print(model._final_estimator)\n",
        "\n",
        "# Show the Accuracy of that run\n",
        "print('Best accuracy: {}'.format(best_run_metrics['accuracy']))"
      ],
      "outputs": [],
      "execution_count": null,
      "metadata": {
        "collapsed": false,
        "gather": {
          "logged": 1615307528621
        },
        "jupyter": {
          "outputs_hidden": false,
          "source_hidden": false
        },
        "nteract": {
          "transient": {
            "deleting": false
          }
        }
      }
    },
    {
      "cell_type": "markdown",
      "source": [
        "## Model Deployment\n",
        "\n",
        "Remember you have to deploy only one of the two models you trained. Perform the steps in the rest of this notebook only if you wish to deploy this model.\n",
        "\n",
        "TODO: In the cell below, register the model, create an inference config and deploy the model as a web service."
      ],
      "metadata": {}
    },
    {
      "cell_type": "code",
      "source": [
        "from azureml.core.compute import AmlCompute\n",
        "from azureml.core.compute import ComputeTarget\n",
        "from azureml.core.compute_target import ComputeTargetException\n",
        "\n",
        "# register the best model\n",
        "best_automl_run.register_model(model_name = \"automl_covid19_model\", model_path = './outputs/')\n",
        "\n",
        "# NOTE: update the cluster name to match the existing cluster\n",
        "# Choose a name for your CPU cluster\n",
        "amlcompute_cluster_name = \"Covid19Cluster\"\n",
        "\n",
        "compute_target.wait_for_completion(show_output=True, min_node_count = 1, timeout_in_minutes = 10)\n",
        "# For a more detailed view of current AmlCompute status, use get_status()."
      ],
      "outputs": [],
      "execution_count": null,
      "metadata": {
        "collapsed": false,
        "gather": {
          "logged": 1598431435189
        },
        "jupyter": {
          "outputs_hidden": false,
          "source_hidden": false
        },
        "nteract": {
          "transient": {
            "deleting": false
          }
        }
      }
    },
    {
      "cell_type": "markdown",
      "source": [
        "TODO: In the cell below, send a request to the web service you deployed to test it."
      ],
      "metadata": {
        "gather": {
          "logged": 1598431657736
        },
        "jupyter": {
          "outputs_hidden": false,
          "source_hidden": false
        },
        "nteract": {
          "transient": {
            "deleting": false
          }
        }
      }
    },
    {
      "cell_type": "code",
      "source": [],
      "outputs": [],
      "execution_count": null,
      "metadata": {
        "collapsed": false,
        "gather": {
          "logged": 1598432707604
        },
        "jupyter": {
          "outputs_hidden": false,
          "source_hidden": false
        },
        "nteract": {
          "transient": {
            "deleting": false
          }
        }
      }
    },
    {
      "cell_type": "markdown",
      "source": [
        "TODO: In the cell below, print the logs of the web service and delete the service"
      ],
      "metadata": {
        "gather": {
          "logged": 1598432765711
        },
        "jupyter": {
          "outputs_hidden": false,
          "source_hidden": false
        },
        "nteract": {
          "transient": {
            "deleting": false
          }
        }
      }
    },
    {
      "cell_type": "code",
      "source": [],
      "outputs": [],
      "execution_count": null,
      "metadata": {
        "collapsed": false,
        "jupyter": {
          "outputs_hidden": false,
          "source_hidden": false
        },
        "nteract": {
          "transient": {
            "deleting": false
          }
        }
      }
    }
  ],
  "metadata": {
    "kernel_info": {
      "name": "python3"
    },
    "kernelspec": {
      "name": "python3",
      "language": "python",
      "display_name": "Python 3"
    },
    "language_info": {
      "name": "python",
      "version": "3.6.9",
      "mimetype": "text/x-python",
      "codemirror_mode": {
        "name": "ipython",
        "version": 3
      },
      "pygments_lexer": "ipython3",
      "nbconvert_exporter": "python",
      "file_extension": ".py"
    },
    "nteract": {
      "version": "nteract-front-end@1.0.0"
    },
    "microsoft": {
      "host": {
        "AzureML": {
          "notebookHasBeenCompleted": true
        }
      }
    }
  },
  "nbformat": 4,
  "nbformat_minor": 4
}