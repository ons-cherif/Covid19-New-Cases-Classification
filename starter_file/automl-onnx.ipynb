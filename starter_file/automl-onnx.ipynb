{
  "cells": [
    {
      "cell_type": "markdown",
      "source": [
        "# Automated ML\n"
      ],
      "metadata": {
        "collapsed": true,
        "jupyter": {
          "outputs_hidden": false,
          "source_hidden": false
        },
        "nteract": {
          "transient": {
            "deleting": false
          }
        }
      }
    },
    {
      "cell_type": "code",
      "source": [
        "import json\n",
        "import sys\n",
        "import os\n",
        "import numpy as np\n",
        "import pandas as pd\n",
        "import shutil\n",
        "import joblib\n",
        "import requests\n",
        "import onnxruntime\n",
        "\n",
        "from sklearn.model_selection import train_test_split\n",
        "\n",
        "from TrainCovid19Infections import clean_data\n",
        "\n",
        "from azureml.core import Workspace, Experiment, Environment, ScriptRunConfig, Dataset\n",
        "from azureml.core.compute import ComputeTarget, AmlCompute\n",
        "from azureml.core.model import InferenceConfig, Model\n",
        "from azureml.core.webservice import AciWebservice, Webservice\n",
        "\n",
        "from azureml.core.run import Run\n",
        "\n",
        "from azureml.automl.core.onnx_convert import OnnxConvertConstants\n",
        "from azureml.automl.runtime.onnx_convert import OnnxConverter, OnnxInferenceHelper\n",
        "\n",
        "from azureml.exceptions import ComputeTargetException\n",
        "from azureml.widgets import RunDetails\n",
        "\n",
        "from azureml.train.sklearn import SKLearn\n",
        "from azureml.train.hyperdrive.run import PrimaryMetricGoal\n",
        "from azureml.train.automl import AutoMLConfig\n",
        "from azureml.train.hyperdrive.parameter_expressions import uniform\n",
        "\n",
        "from azureml.data.dataset_factory import TabularDatasetFactory\n",
        "\n",
        "from azureml.train.automl import constants\n"
      ],
      "outputs": [
        {
          "output_type": "stream",
          "name": "stderr",
          "text": [
            "/anaconda/envs/azureml_py36/lib/python3.6/site-packages/skl2onnx/common/_container.py:44: UserWarning: Unable to find an ONNX name in function 'apply_constant2', source=\n",
            "def apply_constant2(scope, input_names, output_name, container, operator_name=None, value=None):\n",
            "    assert len(input_names) == 0  # only a placeholder to standardize the argument list.\n",
            "    return apply_constant(scope, output_name, container, operator_name, value)\n",
            "\n",
            "  \"'{0}', source=\\n{1}\".format(k, source))\n",
            "/anaconda/envs/azureml_py36/lib/python3.6/site-packages/skl2onnx/common/_container.py:44: UserWarning: Unable to find an ONNX name in function 'apply_greater_or_equal', source=\n",
            "def apply_greater_or_equal(scope, input_names, output_name, container, operator_name=None):\n",
            "    _convert_compare_equal(scope, input_names, output_name, container, operator_name, 'GreaterEqual', 'Less',\n",
            "                           'GreaterOrEqual')\n",
            "\n",
            "  \"'{0}', source=\\n{1}\".format(k, source))\n",
            "/anaconda/envs/azureml_py36/lib/python3.6/site-packages/skl2onnx/common/_container.py:44: UserWarning: Unable to find an ONNX name in function 'apply_less_or_equal', source=\n",
            "def apply_less_or_equal(scope, input_names, output_name, container, operator_name=None):\n",
            "    _convert_compare_equal(scope, input_names, output_name, container, operator_name, 'LessEqual', 'Greater',\n",
            "                           'LessOrEqual')\n",
            "\n",
            "  \"'{0}', source=\\n{1}\".format(k, source))\n",
            "/anaconda/envs/azureml_py36/lib/python3.6/site-packages/skl2onnx/common/_container.py:44: UserWarning: Unable to find an ONNX name in function 'apply_relu_6', source=\n",
            "def apply_relu_6(scope, input_name, output_name, container, operator_name=None, zero_value=0.0):\n",
            "    name_relu = _create_name_or_use_existing_one(scope, 'relu', operator_name)\n",
            "    name_relu_op = _create_name_or_use_existing_one(scope, 'relu6', operator_name)\n",
            "    apply_relu(scope, input_name, name_relu, container, name_relu_op+'_relu')\n",
            "    apply_clip(scope, name_relu, output_name, container, name_relu_op + '_clip', zero_value+6, zero_value)\n",
            "\n",
            "  \"'{0}', source=\\n{1}\".format(k, source))\n",
            "/anaconda/envs/azureml_py36/lib/python3.6/site-packages/skl2onnx/common/_container.py:44: UserWarning: Unable to find an ONNX name in function 'apply_slice2', source=\n",
            "def apply_slice2(scope, input_name, output_name, container,\n",
            "                 operator_name=None, starts=None, ends=None, axes=None, steps=None):\n",
            "    assert starts is not None, 'the starts in slice op cannot be None'\n",
            "    assert ends is not None, 'the ends in slice op cannot be None'\n",
            "    return apply_slice(scope, input_name, output_name, container, starts, ends,\n",
            "                       axes, steps, operator_name)\n",
            "\n",
            "  \"'{0}', source=\\n{1}\".format(k, source))\n",
            "/anaconda/envs/azureml_py36/lib/python3.6/site-packages/skl2onnx/common/_container.py:44: UserWarning: Unable to find an ONNX name in function 'apply_squeeze', source=\n",
            "def apply_squeeze(scope, input_name, output_name, container, operator_name=None, axes=None, rank=0):\n",
            "    if axes is None:\n",
            "        axes = [0]\n",
            "    _apply_squeeze_unsqueeze(scope, input_name, output_name, container, 'Squeeze', operator_name, axes, rank)\n",
            "\n",
            "  \"'{0}', source=\\n{1}\".format(k, source))\n",
            "/anaconda/envs/azureml_py36/lib/python3.6/site-packages/skl2onnx/common/_container.py:44: UserWarning: Unable to find an ONNX name in function 'apply_unsqueeze', source=\n",
            "def apply_unsqueeze(scope, input_name, output_name, container, operator_name=None, axes=None, rank=0):\n",
            "    if axes is None:\n",
            "        axes = [0]\n",
            "    _apply_squeeze_unsqueeze(scope, input_name, output_name, container, 'Unsqueeze', operator_name, axes, rank)\n",
            "\n",
            "  \"'{0}', source=\\n{1}\".format(k, source))\n"
          ]
        },
        {
          "output_type": "error",
          "ename": "ImportError",
          "evalue": "cannot import name 'calculate_linear_classifier_output_shapes'",
          "traceback": [
            "\u001b[0;31m---------------------------------------------------------------------------\u001b[0m",
            "\u001b[0;31mImportError\u001b[0m                               Traceback (most recent call last)",
            "\u001b[0;32m<ipython-input-1-636995b99042>\u001b[0m in \u001b[0;36m<module>\u001b[0;34m\u001b[0m\n\u001b[1;32m     21\u001b[0m \u001b[0;34m\u001b[0m\u001b[0m\n\u001b[1;32m     22\u001b[0m \u001b[0;32mfrom\u001b[0m \u001b[0mazureml\u001b[0m\u001b[0;34m.\u001b[0m\u001b[0mautoml\u001b[0m\u001b[0;34m.\u001b[0m\u001b[0mcore\u001b[0m\u001b[0;34m.\u001b[0m\u001b[0monnx_convert\u001b[0m \u001b[0;32mimport\u001b[0m \u001b[0mOnnxConvertConstants\u001b[0m\u001b[0;34m\u001b[0m\u001b[0;34m\u001b[0m\u001b[0m\n\u001b[0;32m---> 23\u001b[0;31m \u001b[0;32mfrom\u001b[0m \u001b[0mazureml\u001b[0m\u001b[0;34m.\u001b[0m\u001b[0mautoml\u001b[0m\u001b[0;34m.\u001b[0m\u001b[0mruntime\u001b[0m\u001b[0;34m.\u001b[0m\u001b[0monnx_convert\u001b[0m \u001b[0;32mimport\u001b[0m \u001b[0mOnnxConverter\u001b[0m\u001b[0;34m,\u001b[0m \u001b[0mOnnxInferenceHelper\u001b[0m\u001b[0;34m\u001b[0m\u001b[0;34m\u001b[0m\u001b[0m\n\u001b[0m\u001b[1;32m     24\u001b[0m \u001b[0;34m\u001b[0m\u001b[0m\n\u001b[1;32m     25\u001b[0m \u001b[0;32mfrom\u001b[0m \u001b[0mazureml\u001b[0m\u001b[0;34m.\u001b[0m\u001b[0mexceptions\u001b[0m \u001b[0;32mimport\u001b[0m \u001b[0mComputeTargetException\u001b[0m\u001b[0;34m\u001b[0m\u001b[0;34m\u001b[0m\u001b[0m\n",
            "\u001b[0;32m/anaconda/envs/azureml_py36/lib/python3.6/site-packages/azureml/automl/runtime/onnx_convert/__init__.py\u001b[0m in \u001b[0;36m<module>\u001b[0;34m\u001b[0m\n\u001b[1;32m     20\u001b[0m \u001b[0;34m\u001b[0m\u001b[0m\n\u001b[1;32m     21\u001b[0m \u001b[0;31m# Operator converter manager module.\u001b[0m\u001b[0;34m\u001b[0m\u001b[0;34m\u001b[0m\u001b[0;34m\u001b[0m\u001b[0m\n\u001b[0;32m---> 22\u001b[0;31m \u001b[0;32mfrom\u001b[0m \u001b[0;34m.\u001b[0m\u001b[0moperator_converter_manager\u001b[0m \u001b[0;32mimport\u001b[0m \u001b[0mOperatorConverterManager\u001b[0m\u001b[0;34m\u001b[0m\u001b[0;34m\u001b[0m\u001b[0m\n\u001b[0m\u001b[1;32m     23\u001b[0m \u001b[0;34m\u001b[0m\u001b[0m\n\u001b[1;32m     24\u001b[0m \u001b[0;31m# Onnx Converter module.\u001b[0m\u001b[0;34m\u001b[0m\u001b[0;34m\u001b[0m\u001b[0;34m\u001b[0m\u001b[0m\n",
            "\u001b[0;32m/anaconda/envs/azureml_py36/lib/python3.6/site-packages/azureml/automl/runtime/onnx_convert/operator_converter_manager.py\u001b[0m in \u001b[0;36m<module>\u001b[0;34m\u001b[0m\n\u001b[1;32m     49\u001b[0m     \u001b[0;32mfrom\u001b[0m \u001b[0mlightgbm\u001b[0m \u001b[0;32mimport\u001b[0m \u001b[0mLGBMClassifier\u001b[0m\u001b[0;34m,\u001b[0m \u001b[0mLGBMRegressor\u001b[0m       \u001b[0;31m# noqa: E402\u001b[0m\u001b[0;34m\u001b[0m\u001b[0;34m\u001b[0m\u001b[0m\n\u001b[1;32m     50\u001b[0m     \u001b[0;32mfrom\u001b[0m \u001b[0monnxmltools\u001b[0m\u001b[0;34m.\u001b[0m\u001b[0mconvert\u001b[0m\u001b[0;34m.\u001b[0m\u001b[0mlightgbm\u001b[0m\u001b[0;34m.\u001b[0m\u001b[0moperator_converters\u001b[0m\u001b[0;34m.\u001b[0m\u001b[0mLightGbm\u001b[0m \u001b[0;32mimport\u001b[0m \u001b[0mconvert_lightgbm\u001b[0m       \u001b[0;31m# noqa: E402\u001b[0m\u001b[0;34m\u001b[0m\u001b[0;34m\u001b[0m\u001b[0m\n\u001b[0;32m---> 51\u001b[0;31m     \u001b[0;32mfrom\u001b[0m \u001b[0monnxmltools\u001b[0m\u001b[0;34m.\u001b[0m\u001b[0mconvert\u001b[0m\u001b[0;34m.\u001b[0m\u001b[0mlightgbm\u001b[0m\u001b[0;34m.\u001b[0m\u001b[0mshape_calculators\u001b[0m\u001b[0;34m.\u001b[0m\u001b[0mClassifier\u001b[0m \u001b[0;32mimport\u001b[0m\u001b[0;31m \u001b[0m\u001b[0;31m\\\u001b[0m\u001b[0;34m\u001b[0m\u001b[0;34m\u001b[0m\u001b[0m\n\u001b[0m\u001b[1;32m     52\u001b[0m         \u001b[0mcalculate_linear_classifier_output_shapes\u001b[0m \u001b[0;32mas\u001b[0m \u001b[0momt_calculate_linear_classifier_output_shapes\u001b[0m       \u001b[0;31m# noqa: E402\u001b[0m\u001b[0;34m\u001b[0m\u001b[0;34m\u001b[0m\u001b[0m\n\u001b[1;32m     53\u001b[0m     \u001b[0;32mfrom\u001b[0m \u001b[0monnxmltools\u001b[0m\u001b[0;34m.\u001b[0m\u001b[0mconvert\u001b[0m\u001b[0;34m.\u001b[0m\u001b[0mlightgbm\u001b[0m\u001b[0;34m.\u001b[0m\u001b[0mshape_calculators\u001b[0m\u001b[0;34m.\u001b[0m\u001b[0mRegressor\u001b[0m \u001b[0;32mimport\u001b[0m\u001b[0;31m \u001b[0m\u001b[0;31m\\\u001b[0m\u001b[0;34m\u001b[0m\u001b[0;34m\u001b[0m\u001b[0m\n",
            "\u001b[0;31mImportError\u001b[0m: cannot import name 'calculate_linear_classifier_output_shapes'"
          ]
        }
      ],
      "execution_count": 1,
      "metadata": {
        "gather": {
          "logged": 1615837117367
        },
        "jupyter": {
          "outputs_hidden": false,
          "source_hidden": false
        },
        "nteract": {
          "transient": {
            "deleting": false
          }
        }
      }
    },
    {
      "cell_type": "markdown",
      "source": [
        "## Initialize Workspace"
      ],
      "metadata": {}
    },
    {
      "cell_type": "code",
      "source": [
        "# Get current workspace from config\n",
        "ws = Workspace.from_config()\n",
        "    \n",
        "ws.get_details()\n",
        "print('Workspace name: ' + ws.name, \n",
        "      'Azure region: ' + ws.location, \n",
        "      'Subscription id: ' + ws.subscription_id, \n",
        "      'Resource group: ' + ws.resource_group, sep = '\\n')\n",
        "\n",
        "project_folder = './capstone-project'\n",
        "# choose a name for experiment\n",
        "experiment_name = 'Covid19VaccinationExperiment'\n",
        "experiment=Experiment(ws, experiment_name)\n",
        "experiment"
      ],
      "outputs": [],
      "execution_count": null,
      "metadata": {
        "gather": {
          "logged": 1615745480811
        }
      }
    },
    {
      "cell_type": "markdown",
      "source": [
        "## Create Cluster\n",
        "\n",
        "Get cluster if it exists else create one"
      ],
      "metadata": {}
    },
    {
      "cell_type": "code",
      "source": [
        "# Create compute cluster\n",
        "cpu_cluster_name = \"Covid19Cluster\"\n",
        "try:\n",
        "    cpu_cluster = ComputeTarget(workspace=ws, name=cpu_cluster_name)\n",
        "    print('A cluster with the same name already exists. If you are trying to create a new one please use a new cluster name')\n",
        "except ComputeTargetException:\n",
        "    print('Creating a new compute target...')\n",
        "    compute_config = AmlCompute.provisioning_configuration(vm_size='STANDARD_D2_V2',max_nodes=4,identity_type=\"SystemAssigned\")\n",
        "    cpu_cluster = ComputeTarget.create(ws, cpu_cluster_name, compute_config)\n",
        "cpu_cluster.wait_for_completion(show_output=True)\n",
        "# Get a detailed status for the current cluster. \n",
        "print(cpu_cluster.get_status().serialize())"
      ],
      "outputs": [],
      "execution_count": null,
      "metadata": {
        "gather": {
          "logged": 1615745481305
        }
      }
    },
    {
      "cell_type": "markdown",
      "source": [
        "## Dataset\n",
        "\n",
        "### Overview\n",
        "\n",
        "I Chose a COVID-19 World Vaccination Dataset that holds a track of the world vaccination including the name of the country, Which vaccines have been used by country, and how many have been vaccinated by Country.\n",
        "\n",
        "Since the covid-19 vaccination is among the hottest subjects in the world, and as a member of the society being interested in such statistic calculations can help further scientists or even regular people to better understand the global effect of this vaccine all over the world.\n",
        "\n",
        "I used Kaggle's API to download the Dataset.\n",
        "\n",
        "TODO: Get data. In the cell below, write code to access the data you will be using in this project. Remember that the dataset needs to be external."
      ],
      "metadata": {}
    },
    {
      "cell_type": "code",
      "source": [
        "# Try to load the dataset from the Workspace. Otherwise, create it from the file\n",
        "found = False\n",
        "key = \"Covid19InfectionsDataset\"\n",
        "description_text = \"Covid19 Vaccination DataSet from Github\"\n",
        "datastore = ws.get_default_datastore()\n",
        "datastore.upload_files(files = ['./github/owid-covid-data.csv'],\n",
        "                       target_path ='train-dataset/tabular/',\n",
        "                       overwrite = True,\n",
        "                       show_progress = True)\n",
        "if key in ws.datasets.keys(): \n",
        "    found = True\n",
        "    dataset = ws.datasets[key] \n",
        "\n",
        "if not found:\n",
        "    original_path = 'https://covid.ourworldindata.org/data/owid-covid-data.csv'\n",
        "    ds = TabularDatasetFactory.from_delimited_files(original_path, infer_column_types=True, separator=',', header=True)\n",
        "    \n",
        "    \n",
        "    #ds = Dataset.Tabular.from_delimited_files(path = [(datastore, 'train-dataset/tabular/country_vaccinations.csv')])\n",
        "    \n",
        "    #Register Dataset in Workspace\n",
        "    dataset = ds.register(workspace=ws,\n",
        "                          name=key,\n",
        "                          description=description_text)\n",
        "\n",
        "df = dataset.to_pandas_dataframe().fillna(0)\n",
        "df.describe()"
      ],
      "outputs": [],
      "execution_count": null,
      "metadata": {
        "gather": {
          "logged": 1615745488955
        }
      }
    },
    {
      "cell_type": "code",
      "source": [
        "# preview the first 10 rows of the dataset\n",
        "df.head(10)"
      ],
      "outputs": [],
      "execution_count": null,
      "metadata": {
        "gather": {
          "logged": 1615745489099
        }
      }
    },
    {
      "cell_type": "code",
      "source": [
        "# Use the clean_data function to clean your data.\n",
        "x, y = clean_data(df)\n",
        "data = pd.concat([x,y],axis=1)\n",
        "data.head()"
      ],
      "outputs": [],
      "execution_count": null,
      "metadata": {
        "gather": {
          "logged": 1615745489762
        }
      }
    },
    {
      "cell_type": "code",
      "source": [
        "# Split data into train and test sets.\n",
        "training_data,validation_data = train_test_split(data,test_size = 0.3,random_state = 42,shuffle=True)"
      ],
      "outputs": [],
      "execution_count": null,
      "metadata": {
        "gather": {
          "logged": 1615745489949
        }
      }
    },
    {
      "cell_type": "code",
      "source": [
        "# Create necessary folders\n",
        "if \"automl_training\" not in os.listdir():\n",
        "    os.mkdir(\"./automl_training\")\n",
        "if \"data\" not in os.listdir():\n",
        "    os.mkdir(\"./data\")\n",
        "if \"outputs\" not in os.listdir():\n",
        "    os.mkdir(\"./outputs\")\n",
        "if \"training\" not in os.listdir():\n",
        "    os.mkdir(\"./training\")\n",
        "# store training_dataset into it using datastore\n",
        "script_folder = './automl_training/'    \n",
        "os.makedirs(script_folder, exist_ok=True)\n",
        "shutil.copy('TrainCovid19Infections.py', script_folder)\n",
        "project_folder = './pipeline-project'"
      ],
      "outputs": [],
      "execution_count": null,
      "metadata": {
        "gather": {
          "logged": 1615745490115
        }
      }
    },
    {
      "cell_type": "markdown",
      "source": [
        "## AutoML Configuration\n",
        "TODO: Explain why you chose the automl settings and cofiguration you used below.\n",
        "The settings used below refers to a classification task within a number of settings chosen based on the existing workspace and cluster configuration restrictions "
      ],
      "metadata": {}
    },
    {
      "cell_type": "code",
      "source": [
        "#convert the training dataset to a CSV file and store it under the training folder\n",
        "training_data.to_csv('training/training_data.csv')\n",
        "#Create an experiment for the AutoML testing script\n",
        "exp = Experiment(workspace=ws, name=\"Covid19AutoMlExperiment\")\n",
        "\n",
        "# Get the dataset from the data folder\n",
        "datastore.upload_files(files = ['training/training_data.csv'],\n",
        "                       target_path ='./data/',\n",
        "                       overwrite = True,\n",
        "                       show_progress = True)\n",
        "training_dataset = TabularDatasetFactory.from_delimited_files(path=[(datastore,('./data/training_data.csv'))])\n",
        "#training_dataset = Dataset.Tabular.from_delimited_files(path = [(datastore, 'train-dataset/tabular/country_vaccinations.csv')])\n",
        "automl_settings = {\n",
        "    \"n_cross_validations\": 3,\n",
        "    \"primary_metric\": 'accuracy',\n",
        "    \"enable_early_stopping\": True,\n",
        "    \"experiment_timeout_hours\": 1.5,\n",
        "    \"max_concurrent_iterations\": 3,\n",
        "}\n",
        "automl_config = AutoMLConfig(task = 'classification',\n",
        "                             compute_target = cpu_cluster,\n",
        "                             training_data = training_dataset,\n",
        "                             label_column_name = 'new_cases',\n",
        "                             featurization= 'auto',\n",
        "                             path=project_folder,\n",
        "                             debug_log = \"Covid_automl_errors.log\",\n",
        "                             enable_onnx_compatible_models=True,\n",
        "                             **automl_settings)"
      ],
      "outputs": [],
      "execution_count": null,
      "metadata": {
        "gather": {
          "logged": 1615745502348
        },
        "jupyter": {
          "outputs_hidden": false,
          "source_hidden": false
        },
        "nteract": {
          "transient": {
            "deleting": false
          }
        }
      }
    },
    {
      "cell_type": "code",
      "source": [
        "# Experiment Submission\n",
        "tag = {\"Covid19Infections\": \"Capstone project: Covid19 AutoML Experiment\"}\n",
        "remote_run = experiment.submit(automl_config,tags=tag, show_output=True)"
      ],
      "outputs": [],
      "execution_count": null,
      "metadata": {
        "gather": {
          "logged": 1615458228934
        },
        "jupyter": {
          "outputs_hidden": false,
          "source_hidden": false
        },
        "nteract": {
          "transient": {
            "deleting": false
          }
        }
      }
    },
    {
      "cell_type": "markdown",
      "source": [
        "## Run Details\n",
        "\n",
        "OPTIONAL: Write about the different models trained and their performance. Why do you think some models did better than others?\n",
        "Supervised Learning in general is based on labled "
      ],
      "metadata": {}
    },
    {
      "cell_type": "code",
      "source": [
        "RunDetails(remote_run).show()\n",
        "remote_run.wait_for_completion(show_output=True)"
      ],
      "outputs": [],
      "execution_count": null,
      "metadata": {
        "gather": {
          "logged": 1615491638922
        },
        "jupyter": {
          "outputs_hidden": false,
          "source_hidden": false
        },
        "nteract": {
          "transient": {
            "deleting": false
          }
        }
      }
    },
    {
      "cell_type": "code",
      "source": [
        "# List best models of HyperDrive Run and AutoML Run to compare the accuracy of the models and choose the best among them to deploy\n",
        "for model in Model.list(ws):\n",
        "    print(model.name)\n",
        "    for tag_name in model.tags:\n",
        "        tag = model.tags[tag_name]\n",
        "        print('\\t',tag_name,':',tag)\n",
        "    for prop_name in model.properties:\n",
        "        prop = model.properties[prop_name]\n",
        "        print('\\t',prop_name,':',prop)\n",
        "    print(\"\\n\")"
      ],
      "outputs": [],
      "execution_count": null,
      "metadata": {}
    },
    {
      "cell_type": "markdown",
      "source": [
        "## Best Model"
      ],
      "metadata": {}
    },
    {
      "cell_type": "code",
      "source": [
        "explaining_model_run_id = remote_run.id\n",
        "print(explaining_model_run_id)\n",
        "explaining_model_run = Run(experiment=experiment, run_id=explaining_model_run_id)\n",
        "explaining_model_run.wait_for_completion()"
      ],
      "outputs": [],
      "execution_count": null,
      "metadata": {}
    },
    {
      "cell_type": "code",
      "source": [
        "# Retrieve and save best model.\n",
        "best_automl_run, best_automl_model = remote_run.get_output()"
      ],
      "outputs": [],
      "execution_count": null,
      "metadata": {}
    },
    {
      "cell_type": "code",
      "source": [
        "\n",
        "\n",
        "# Get the metrics of the best selected run\n",
        "best_run_metrics = best_automl_run.get_metrics()\n",
        "\n",
        "# Print all metrics of the best run model\n",
        "for metric_name in best_run_metrics:\n",
        "    metric = best_run_metrics[metric_name]\n",
        "    print(metric_name, metric)\n",
        "    \n",
        "print(best_automl_model._final_estimator)"
      ],
      "outputs": [],
      "execution_count": null,
      "metadata": {
        "gather": {
          "logged": 1615492559055
        },
        "jupyter": {
          "outputs_hidden": false,
          "source_hidden": false
        },
        "nteract": {
          "transient": {
            "deleting": false
          }
        }
      }
    },
    {
      "cell_type": "code",
      "source": [
        "joblib.dump(best_automl_model, filename=\"outputs/automl-model.pkl\")"
      ],
      "outputs": [],
      "execution_count": null,
      "metadata": {}
    },
    {
      "cell_type": "code",
      "source": [
        "arr = os.listdir('./outputs/')\n",
        "print(arr)"
      ],
      "outputs": [],
      "execution_count": null,
      "metadata": {}
    },
    {
      "cell_type": "code",
      "source": [
        "# register the best model\n",
        "\n",
        "best_model_registered = best_automl_run.register_model(\n",
        "                                            model_name = \"best_automl_covid19_model\",\n",
        "                                            tags={'Area': \"Pandemic\", 'Type': \"Classification\",'Method of execution':'Auto ML'},\n",
        "                                            properties={'Accuracy': best_run_metrics['accuracy']})\n",
        "#print(best_model.name, best_model.id, sep='\\t')\n",
        "print(best_model_registered)"
      ],
      "outputs": [],
      "execution_count": null,
      "metadata": {
        "gather": {
          "logged": 1615492611288
        },
        "jupyter": {
          "outputs_hidden": false,
          "source_hidden": false
        },
        "nteract": {
          "transient": {
            "deleting": false
          }
        }
      }
    },
    {
      "cell_type": "markdown",
      "source": [
        "## Model Deployment\n",
        "\n",
        "As the best model coming from AutoML run has better accuracy than the one coming from the HyperDrive run, I deploy it in the cell below, register it, create an inference config and deploy the model as a web service.\n",
        "\n",
        "TODO: In the cell below, register the model, create an inference config and deploy the model as a web service."
      ],
      "metadata": {}
    },
    {
      "cell_type": "code",
      "source": [
        "with open('score.py') as f:\n",
        "    print(f.read())"
      ],
      "outputs": [],
      "execution_count": null,
      "metadata": {}
    },
    {
      "cell_type": "code",
      "source": [
        "model = Model(ws, 'best_automl_covid19_model')\n",
        "\n",
        "environment = best_automl_run.get_environment()\n",
        "best_automl_run.download_file('outputs/scoring_file_v_1_0_0.py', 'score.py')\n",
        "best_automl_run.download_file(constants.CONDA_ENV_FILE_PATH, 'environment.yml')\n",
        "\n",
        "\n",
        "inference_config = InferenceConfig(entry_script='score.py', environment=environment)\n",
        "\n",
        "deployment_config = AciWebservice.deploy_configuration(\n",
        "                                                       cpu_cores=1,\n",
        "                                                       memory_gb=1,\n",
        "                                                       description='Covid19 new cases prediction',\n",
        "                                                       auth_enabled=True,\n",
        "                                                       enable_app_insights= True,\n",
        "                                                       collect_model_data = True)\n",
        "\n",
        "service = Model.deploy(workspace=ws,\n",
        "                       name=service_name,\n",
        "                       models=[model],\n",
        "                       inference_config=inference_config,\n",
        "                       deployment_config=deployment_config,\n",
        "                       overwrite=True)\n",
        "service.validate_configuration()\n",
        "service.wait_for_deployment(show_output=True)\n",
        "\n",
        "print(service.state)\n",
        "service.print_deploy_configuration()"
      ],
      "outputs": [],
      "execution_count": null,
      "metadata": {}
    },
    {
      "cell_type": "code",
      "source": [
        "print(\"State : \"+service.state)\n",
        "print(\"Key \" + service.get_keys()[0])\n",
        "print(\"Swagger URI : \"+service.swagger_uri)\n",
        "print(\"Scoring URI : \"+service.scoring_uri)"
      ],
      "outputs": [],
      "execution_count": null,
      "metadata": {}
    },
    {
      "cell_type": "markdown",
      "source": [
        "TODO: In the cell below, send a request to the web service you deployed to test it."
      ],
      "metadata": {
        "gather": {
          "logged": 1598431657736
        },
        "jupyter": {
          "outputs_hidden": false,
          "source_hidden": false
        },
        "nteract": {
          "transient": {
            "deleting": false
          }
        }
      }
    },
    {
      "cell_type": "code",
      "source": [
        "#Importing the dataset for testing \n",
        "\n",
        "Covid19InfectionsSample = df.sample(2) \n",
        "y_df = Covid19InfectionsSample[\"new_cases\"]\n",
        "Covid19InfectionsSample.drop(['new_cases'], inplace=True, axis=1)\n",
        "x_df = Covid19InfectionsSample\n",
        "\n",
        "Covid19DataTesting= json.dumps({'data': x_df.to_dict(orient='records')})\n",
        "\n",
        "print(Covid19DataTesting)"
      ],
      "outputs": [],
      "execution_count": null,
      "metadata": {}
    },
    {
      "cell_type": "code",
      "source": [
        "headers = {'Content-type': 'application/json'}\n",
        "headers['Authorization'] = f'Bearer {service.get_keys()[0]}'\n",
        "# Make the request and display the response\n",
        "response = requests.post(service.scoring_uri, Covid19DataTesting, headers=headers)\n",
        "print('Prediction :', response.text)\n",
        "\n",
        "# Print original labels\n",
        "print('True Values :', y_df.values)"
      ],
      "outputs": [],
      "execution_count": null,
      "metadata": {
        "gather": {
          "logged": 1598432707604
        },
        "jupyter": {
          "outputs_hidden": false,
          "source_hidden": false
        },
        "nteract": {
          "transient": {
            "deleting": false
          }
        }
      }
    },
    {
      "cell_type": "markdown",
      "source": [
        "TODO: In the cell below, print the logs of the web service and delete the service"
      ],
      "metadata": {
        "gather": {
          "logged": 1598432765711
        },
        "jupyter": {
          "outputs_hidden": false,
          "source_hidden": false
        },
        "nteract": {
          "transient": {
            "deleting": false
          }
        }
      }
    },
    {
      "cell_type": "code",
      "source": [
        "print(service.get_logs())"
      ],
      "outputs": [],
      "execution_count": null,
      "metadata": {
        "jupyter": {
          "outputs_hidden": false,
          "source_hidden": false
        },
        "nteract": {
          "transient": {
            "deleting": false
          }
        }
      }
    },
    {
      "cell_type": "markdown",
      "source": [
        "# Deploy ONNX Best Model"
      ],
      "metadata": {}
    },
    {
      "cell_type": "code",
      "source": [
        "# retrieve the best model from the remote_run to deploy it\n",
        "best_run, onnx_mdl = remote_run.get_output(return_onnx_model=True)\n",
        "# Save the best Model\n",
        "onnx_fl_path = \"./best_model.onnx\"\n",
        "OnnxConverter.save_onnx_model(onnx_mdl, onnx_fl_path)"
      ],
      "outputs": [],
      "execution_count": null,
      "metadata": {}
    },
    {
      "cell_type": "markdown",
      "source": [
        "# ONNX Prediction"
      ],
      "metadata": {}
    },
    {
      "cell_type": "code",
      "source": [
        "if sys.version_info < OnnxConvertConstants.OnnxIncompatiblePythonVersion:\n",
        "    python_version_compatible = True\n",
        "else:\n",
        "    python_version_compatible = False\n",
        "\n",
        "def get_onnx_res(run):\n",
        "    res_path = 'onnx_resource.json'\n",
        "    run.download_file(name=constants.MODEL_RESOURCE_PATH_ONNX, output_file_path=res_path)\n",
        "    with open(res_path) as f:\n",
        "        onnx_res = json.load(f)\n",
        "    return onnx_res\n",
        "Covid19InfectionsSample = df.sample(2) \n",
        "y_df = Covid19InfectionsSample[\"new_cases\"]\n",
        "Covid19InfectionsSample.drop(['new_cases'], inplace=True, axis=1)\n",
        "x_df = Covid19InfectionsSample\n",
        "\n",
        "Covid19DataTesting= json.dumps({'data': x_df.to_dict(orient='records')})\n",
        "\n",
        "print(Covid19DataTesting)\n",
        "\n",
        "if python_version_compatible:\n",
        "    #test_df = Covid19InfectionsSample\n",
        "    mdl_bytes = onnx_mdl.SerializeToString()\n",
        "    onnx_res = get_onnx_res(best_run)\n",
        "\n",
        "    onnxrt_helper = OnnxInferenceHelper(mdl_bytes, onnx_res)\n",
        "    pred_onnx, pred_prob_onnx = onnxrt_helper.predict(Covid19InfectionsSample)\n",
        "\n",
        "    print(pred_onnx)\n",
        "    print(pred_prob_onnx)\n",
        "else:\n",
        "    print('Please use Python version 3.6 or 3.7 to run the inference helper.')"
      ],
      "outputs": [],
      "execution_count": null,
      "metadata": {}
    },
    {
      "cell_type": "code",
      "source": [
        "#service.delete()\n",
        "#cpu_cluster.delete()"
      ],
      "outputs": [],
      "execution_count": null,
      "metadata": {}
    }
  ],
  "metadata": {
    "kernel_info": {
      "name": "python3-azureml"
    },
    "kernelspec": {
      "name": "python3-azureml",
      "language": "python",
      "display_name": "Python 3.6 - AzureML"
    },
    "language_info": {
      "name": "python",
      "version": "3.6.9",
      "mimetype": "text/x-python",
      "codemirror_mode": {
        "name": "ipython",
        "version": 3
      },
      "pygments_lexer": "ipython3",
      "nbconvert_exporter": "python",
      "file_extension": ".py"
    },
    "microsoft": {
      "host": {
        "AzureML": {
          "notebookHasBeenCompleted": true
        }
      }
    },
    "nteract": {
      "version": "nteract-front-end@1.0.0"
    }
  },
  "nbformat": 4,
  "nbformat_minor": 4
}